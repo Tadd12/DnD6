{
 "cells": [
  {
   "cell_type": "code",
   "metadata": {
    "ExecuteTime": {
     "end_time": "2024-05-13T06:48:47.299438Z",
     "start_time": "2024-05-13T06:48:47.285191Z"
    }
   },
   "source": [
    "import json\n",
    "import os"
   ],
   "outputs": [],
   "execution_count": 2
  },
  {
   "cell_type": "code",
   "metadata": {
    "ExecuteTime": {
     "end_time": "2024-05-13T07:02:44.661494Z",
     "start_time": "2024-05-13T07:02:44.650244Z"
    }
   },
   "source": [
    "fileName = \"\"\n",
    "filePath =  f\"DnD6/Dialog/{fileName}.json\""
   ],
   "outputs": [],
   "execution_count": 15
  },
  {
   "cell_type": "markdown",
   "metadata": {},
   "source": "The Structure of the questions dict and answers dict is \"questionId -> (text, anwserIds)\" and \"anwserId -> (text, questionId)\", respectively. Each Question can have a maximum of 4 possible answers.\n"
  },
  {
   "cell_type": "code",
   "metadata": {
    "ExecuteTime": {
     "end_time": "2024-05-13T07:01:46.763336Z",
     "start_time": "2024-05-13T07:01:46.745199Z"
    }
   },
   "source": [
    "# Example:\n",
    "# Index: (\"Text\", \n",
    "#questions = {\n",
    "#    0: [\"Greeting\", [0]],\n",
    "#    1: [\"How can I help you?\", [1, 2]],\n",
    "#    2: [\"\", []],\n",
    "#    3: [\"See you next time Adventurer\", []]\n",
    "#} \n",
    "# Index: (\"Text\", Question Index, Callback Code)\n",
    "# Callback Code: 0=normal, alles andere sollte etwas machen\n",
    "#answers = {\n",
    "#    0: (\"Greetings\", 1, 0),\n",
    "#    1: (\"Open Shop\", 2, 1),\n",
    "#    2: (\"Bye\", 3, 0),\n",
    "#}\n",
    "questions = {\n",
    "    \n",
    "}\n",
    "\n",
    "answers = {\n",
    "    \n",
    "}"
   ],
   "outputs": [],
   "execution_count": 10
  },
  {
   "cell_type": "code",
   "metadata": {
    "ExecuteTime": {
     "end_time": "2024-05-13T07:01:47.181034Z",
     "start_time": "2024-05-13T07:01:47.169280Z"
    }
   },
   "source": [
    "# Check integrity\n",
    "assert isinstance(questions, dict)\n",
    "for q in questions.values():\n",
    "    assert isinstance(q[0], str), q[0]\n",
    "    assert isinstance(q[1], list)\n",
    "    assert all([i in answers.keys() for i in q[1]])\n",
    "\n",
    "assert isinstance(answers, dict)\n",
    "for a in answers.values():\n",
    "    assert isinstance(a[0], str)\n",
    "    assert isinstance(a[1], int)\n",
    "    if a[1] > 0:\n",
    "        assert a[1] in questions.keys()\n",
    "    "
   ],
   "outputs": [],
   "execution_count": 11
  },
  {
   "cell_type": "code",
   "metadata": {
    "ExecuteTime": {
     "end_time": "2024-05-13T07:03:52.572520Z",
     "start_time": "2024-05-13T07:03:52.554558Z"
    }
   },
   "source": [
    "with open(filePath, \"w+\") as f:\n",
    "    f.write(json.dumps([questions, answers]))"
   ],
   "outputs": [],
   "execution_count": 17
  },
  {
   "metadata": {},
   "cell_type": "code",
   "outputs": [],
   "execution_count": null,
   "source": ""
  }
 ],
 "metadata": {
  "kernelspec": {
   "display_name": "Python 3",
   "language": "python",
   "name": "python3"
  },
  "language_info": {
   "codemirror_mode": {
    "name": "ipython",
    "version": 3
   },
   "file_extension": ".py",
   "mimetype": "text/x-python",
   "name": "python",
   "nbconvert_exporter": "python",
   "pygments_lexer": "ipython3",
   "version": "3.11.0"
  }
 },
 "nbformat": 4,
 "nbformat_minor": 2
}
