{
 "cells": [
  {
   "cell_type": "code",
   "execution_count": 1,
   "metadata": {},
   "outputs": [],
   "source": [
    "import sqlite3\n",
    "from IPython.display import Markdown\n",
    "import re"
   ]
  },
  {
   "cell_type": "code",
   "execution_count": 2,
   "metadata": {},
   "outputs": [],
   "source": [
    "def PrintTable(liste, desc=None):\n",
    "    TableString = \"\"\n",
    "    if desc is not None:\n",
    "        TableString += \"|\".join([i[0] for i in desc]) + '\\n'\n",
    "        TableString += \"|\".join(['-'*len(i[0]) for i in desc]) + '\\n'\n",
    "\n",
    "    for l in liste:\n",
    "        TableString += \"|\".join([str(i) for i in l]) + '\\n'\n",
    "\n",
    "    return TableString"
   ]
  },
  {
   "cell_type": "code",
   "execution_count": 3,
   "metadata": {},
   "outputs": [],
   "source": [
    "# Type your Data in here \n",
    "\n",
    "# ItemSID (Type in a internal StringIdentifier. ITEM_ will be added by this script)\n",
    "# (e.g. FIRE_SWORD or POSION_APPLE)\n",
    "ItemSID = 'POSION_APPLE'\n",
    "ItemNameEnglish = 'Posioned Apple'\n",
    "\n",
    "# please type in a Float\n",
    "ItemWeight = .1\n",
    "\n",
    "# ItemType (Type a letter representing the type of the Item)\n",
    "# (C -> Consumable, A -> Armor, W -> Weapon)\n",
    "ItemType = 'C'\n",
    "\n",
    "# optional\n",
    "ItemNameGerman = ''\n",
    "ItemNameFrench = ''\n",
    "\n",
    "ItemDescEnglish = ''\n",
    "ItemDescGerman = ''\n",
    "ItemDescFrench = ''\n",
    "\n",
    "# Item Type specifics\n",
    "# Consumable\n",
    "\n",
    "# ItemTarget (The Target the Item can be used on) \n",
    "# (C -> only used on Character (e.g. Health Potion), I -> only used on Item (e.g. ), A -> used on All (e.g. Posion)) \n",
    "itemTarget = 'C'\n",
    "\n",
    "# Useable in Fight (Should the item be able to be used in)\n",
    "itemInFight = False\n",
    "\n",
    "# Armor / Shield\n",
    "\n",
    "# ArmorBonus (The bonus for the armor class of the character wearing the armor) \n",
    "# int\n",
    "ArmorBonus = 0\n",
    "# ArmorType (the Type of armor) \n",
    "# (C -> Cloth, L -> Light armor, M -> middle armor, H -> Heavy Armor, S -> Shield)\n",
    "ArmorType = None\n",
    "# ArmorPart (The body part the Armor should be able to be worn) \n",
    "# (S -> Shoes, L -> Legs, T -> Torso, G -> Gloves, N -> Neckless, H -> Helmet, S -> Shield)\n",
    "ArmorPart = None\n",
    "\n",
    "# Weapon\n",
    "\n",
    "# AttackBonus (The bonus for each attack of the character wielding a Weapon)\n",
    "# int \n",
    "AttackBonus = None\n",
    "\n",
    "# StandardDamage (The Standard Damage of the Weapon without bonus)\n",
    "# (nWm where n is the number of dice and m the number of sides)\n",
    "StandardDamage = '4W4'\n",
    "\n",
    "# WeaponRange (the Range of the Weapon)\n",
    "# int\n",
    "WeaponRange = None\n",
    "# WeaponClass (the class/type of Weapon (e.g. Sword, Javelin, etc.))\n",
    "WeaponClass = None"
   ]
  },
  {
   "cell_type": "code",
   "execution_count": 5,
   "metadata": {},
   "outputs": [],
   "source": [
    "# Check input\n",
    "if ItemSID is None:\n",
    "    raise ValueError(\"ItemSID must be given\")\n",
    "\n",
    "ItemSID = ItemSID.upper()\n",
    "ItemSID = ItemSID.replace(\" \", \"_\")\n",
    "\n",
    "\n",
    "if ItemNameEnglish is None:\n",
    "    raise ValueError(\"English Name must be given\")\n",
    "\n",
    "if ItemType not in [\"C\", \"A\", \"W\"]:\n",
    "    raise ValueError(\"ItemType must be C, A or W\")\n",
    "\n",
    "match ItemType:\n",
    "    case 'C':\n",
    "        if itemTarget not in [\"C\", \"I\", \"A\"]:\n",
    "            raise ValueError(\" \\\"ItemTarget\\\" must be C, I or A\")\n",
    "        if itemInFight not in [\"T\", \"F\", \"0\", \"1\", True, False]:\n",
    "            raise ValueError(\" \\\"Useable in Fight\\\" must be T or F\")\n",
    "        itemInFight = 0 if itemInFight in [\"F\", \"0\", False] else 1\n",
    "    case 'A':\n",
    "        if ArmorType not in [\"C\", \"L\", \"M\", \"H\", \"S\"]:\n",
    "            raise ValueError(\" \\\"ItemTarget\\\" must be C, L, M or H\")\n",
    "        if ArmorPart not in [\"S\", \"L\", \"T\", \"G\", \"N\", \"H\", \"S\"]:\n",
    "            raise ValueError(\" \\\"ItemTarget\\\" must be S, L, T, G, N or H\")\n",
    "    case 'W':\n",
    "        if not re.match(r\"\\d{0,2}W\\d{1,2}\", StandardDamage):\n",
    "            raise ValueError(\"StandardDamage must be of shape nWm (where n is the number of dice and m the number of sides)\")\n",
    "        "
   ]
  },
  {
   "cell_type": "code",
   "execution_count": 6,
   "metadata": {},
   "outputs": [],
   "source": [
    "con = sqlite3.connect(\"DND6/Databases/Objects.db\")"
   ]
  },
  {
   "cell_type": "code",
   "execution_count": 7,
   "metadata": {},
   "outputs": [
    {
     "data": {
      "text/plain": [
       "<sqlite3.Cursor at 0x21320a75640>"
      ]
     },
     "execution_count": 7,
     "metadata": {},
     "output_type": "execute_result"
    }
   ],
   "source": [
    "# Save Data to DB\n",
    "cur = con.cursor()\n",
    "\n",
    "NameSID = f\"ITEMNAME_{ItemSID}\"\n",
    "DescSID = f\"ITEMDESC_{ItemSID}\" if not ItemDescEnglish == '' else \"DESC_EMPTY\"\n",
    "\n",
    "# Store Name\n",
    "sqlStatementName = f\"\"\"INSERT INTO Names (NameSID, English, German, French)\n",
    "VALUES (\"{NameSID}\", \"{ItemNameEnglish}\", \"{ItemNameGerman}\", \"{ItemNameFrench}\");\"\"\"\n",
    "cur.execute(sqlStatementName)\n",
    "\n",
    "if DescSID != 'DESC_EMPTY':\n",
    "    sqlStatementDescription = f\"\"\"INSERT INTO Descriptions (DescSID, English, German, French)\n",
    "    VALUES (\"{DescSID}\", \"{ItemDescEnglish}\", \"{ItemDescGerman}\", \"{ItemDescFrench}\");\"\"\"\n",
    "\n",
    "    cur.execute(sqlStatementDescription)\n",
    "\n",
    "# Store Titem\n",
    "sqlStatementItemBase = f\"\"\"INSERT INTO Item (SID, NameSID, DescSID, Weight, Type)\n",
    "VALUES (\"ITEM_{ItemSID}\", \"{NameSID}\", \"{DescSID}\", {ItemWeight}, \"{ItemType}\");\"\"\"\n",
    "\n",
    "cur.execute(sqlStatementItemBase)\n",
    "\n",
    "match ItemType:\n",
    "    case 'C':\n",
    "        sqlStatementItemChild = f\"\"\"INSERT INTO ItemConsumable (ItemSID, UseTarget, UseableInFight)\n",
    "        VALUES (\"ITEM_{ItemSID}\", \"{itemTarget}\", \"{itemInFight}\");\"\"\"\n",
    "    case 'A':\n",
    "        sqlStatementItemChild = f\"\"\"INSERT INTO ItemArmor (ItemSID, ArmorBonus, ArmorType, ArmorPart)\n",
    "        VALUES (\"ITEM_{ItemSID}\", {ArmorBonus}, \"{ArmorType}\", \"{ArmorPart}\");\"\"\"\n",
    "    case 'S':\n",
    "        sqlStatementItemChild = f\"\"\"INSERT INTO ItemShield (ItemSID, ArmorBonus)\n",
    "        VALUES (\"ITEM_{ItemSID}\", {ArmorBonus});\"\"\"\n",
    "    case 'W':\n",
    "        sqlStatementItemChild = f\"\"\"INSERT INTO ItemWeapon (ItemSID, AttackBonus, StandardDamage, Range, Class)\n",
    "        VALUES (\"ITEM_{ItemSID}\", {AttackBonus}, \"{StandardDamage}\", {WeaponRange}, \"{WeaponClass}\");\"\"\"\n",
    "\n",
    "cur.execute(sqlStatementItemChild)"
   ]
  },
  {
   "cell_type": "code",
   "execution_count": 1,
   "metadata": {},
   "outputs": [
    {
     "ename": "NameError",
     "evalue": "name 'ItemType' is not defined",
     "output_type": "error",
     "traceback": [
      "\u001b[1;31m---------------------------------------------------------------------------\u001b[0m",
      "\u001b[1;31mNameError\u001b[0m                                 Traceback (most recent call last)",
      "\u001b[1;32mc:\\Users\\FFran\\Documents\\DHBW\\SoftwareEngeniering\\Projekt-Enigneering\\ItemSaver.ipynb Zelle 7\u001b[0m line \u001b[0;36m1\n\u001b[1;32m----> <a href='vscode-notebook-cell:/c%3A/Users/FFran/Documents/DHBW/SoftwareEngeniering/Projekt-Enigneering/ItemSaver.ipynb#W5sZmlsZQ%3D%3D?line=0'>1</a>\u001b[0m \u001b[39mmatch\u001b[39;00m ItemType:\n\u001b[0;32m      <a href='vscode-notebook-cell:/c%3A/Users/FFran/Documents/DHBW/SoftwareEngeniering/Projekt-Enigneering/ItemSaver.ipynb#W5sZmlsZQ%3D%3D?line=1'>2</a>\u001b[0m     \u001b[39mcase\u001b[39;00m \u001b[39m'\u001b[39m\u001b[39mC\u001b[39m\u001b[39m'\u001b[39m:\n\u001b[0;32m      <a href='vscode-notebook-cell:/c%3A/Users/FFran/Documents/DHBW/SoftwareEngeniering/Projekt-Enigneering/ItemSaver.ipynb#W5sZmlsZQ%3D%3D?line=2'>3</a>\u001b[0m         sqlStatementgetItem \u001b[39m=\u001b[39m \u001b[39mf\u001b[39m\u001b[39m\"\"\"\u001b[39m\u001b[39m  SELECT SID, Names.English NameEnglish, Names.German NameGerman, Names.French NameFrench, \u001b[39m\n\u001b[0;32m      <a href='vscode-notebook-cell:/c%3A/Users/FFran/Documents/DHBW/SoftwareEngeniering/Projekt-Enigneering/ItemSaver.ipynb#W5sZmlsZQ%3D%3D?line=3'>4</a>\u001b[0m \u001b[39m\t\t\t\t\t\t\t\t\tDescriptions.English DescEnglish, Descriptions.German DescGerman, Descriptions.French DescFrench, \u001b[39m\n\u001b[0;32m      <a href='vscode-notebook-cell:/c%3A/Users/FFran/Documents/DHBW/SoftwareEngeniering/Projekt-Enigneering/ItemSaver.ipynb#W5sZmlsZQ%3D%3D?line=4'>5</a>\u001b[0m \u001b[39m\t\t\t\t\t\t\t\t\tItem.Weight, Item.InventoryIcon\u001b[39m\n\u001b[1;32m   (...)\u001b[0m\n\u001b[0;32m      <a href='vscode-notebook-cell:/c%3A/Users/FFran/Documents/DHBW/SoftwareEngeniering/Projekt-Enigneering/ItemSaver.ipynb#W5sZmlsZQ%3D%3D?line=8'>9</a>\u001b[0m \u001b[39m\t\t\t\t\t\t\t\t\tJOIN ItemConsumable ON Item.SID = ItemConsumable.ItemSID\u001b[39m\n\u001b[0;32m     <a href='vscode-notebook-cell:/c%3A/Users/FFran/Documents/DHBW/SoftwareEngeniering/Projekt-Enigneering/ItemSaver.ipynb#W5sZmlsZQ%3D%3D?line=9'>10</a>\u001b[0m \u001b[39m\t\t\t\t\t\t\t\t\tWHERE Item.Type=\u001b[39m\u001b[39m'\u001b[39m\u001b[39mC\u001b[39m\u001b[39m'\u001b[39m\u001b[39m;\u001b[39m\u001b[39m\"\"\"\u001b[39m\n",
      "\u001b[1;31mNameError\u001b[0m: name 'ItemType' is not defined"
     ]
    }
   ],
   "source": [
    "match ItemType:\n",
    "    case 'C':\n",
    "        sqlStatementgetItem = f\"\"\"  SELECT SID, Names.English NameEnglish, Names.German NameGerman, Names.French NameFrench, \n",
    "\t\t\t\t\t\t\t\t\tDescriptions.English DescEnglish, Descriptions.German DescGerman, Descriptions.French DescFrench, \n",
    "\t\t\t\t\t\t\t\t\tItem.Weight, Item.InventoryIcon\n",
    "\t\t\t\t\t\t\t\t\tFROM Item\n",
    "\t\t\t\t\t\t\t\t\tJOIN Names ON Item.NameSID = Names.NameSID\n",
    "\t\t\t\t\t\t\t\t\tJOIN Descriptions ON Item.DescSID = Descriptions.DescSID\n",
    "\t\t\t\t\t\t\t\t\tJOIN ItemConsumable ON Item.SID = ItemConsumable.ItemSID\n",
    "\t\t\t\t\t\t\t\t\tWHERE Item.Type='C';\"\"\"\n",
    "    case 'A':\n",
    "        pass\n",
    "    case 'S':\n",
    "        pass\n",
    "    case 'W':\n",
    "        pass\n",
    "\n",
    "cur = cur.execute()\n",
    "Markdown(PrintTable(cur.fetchall(), cur.description))"
   ]
  },
  {
   "cell_type": "code",
   "execution_count": null,
   "metadata": {},
   "outputs": [],
   "source": [
    "# con.commit()\n",
    "con.close()"
   ]
  }
 ],
 "metadata": {
  "kernelspec": {
   "display_name": "Python 3",
   "language": "python",
   "name": "python3"
  },
  "language_info": {
   "codemirror_mode": {
    "name": "ipython",
    "version": 3
   },
   "file_extension": ".py",
   "mimetype": "text/x-python",
   "name": "python",
   "nbconvert_exporter": "python",
   "pygments_lexer": "ipython3",
   "version": "3.10.4"
  }
 },
 "nbformat": 4,
 "nbformat_minor": 2
}
